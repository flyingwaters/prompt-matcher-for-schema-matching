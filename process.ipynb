{
 "cells": [
  {
   "cell_type": "code",
   "execution_count": 49,
   "metadata": {},
   "outputs": [],
   "source": [
    "import os\n",
    "dir_path = r\"./data\"\n",
    "dataset_name = [\"Coma\", \"CorrelationClustering\", \"Cupid\",\"Cupid2\", \"EmbDI\",\"JaccardLevenMatcher\",\"SemProp\",\"SimilarityFlooding\"]\n",
    "\n",
    "both_names_set = set()\n",
    "vertical_names_set = set()\n",
    "horizontal_names_set = set()\n",
    "music_names_set = set()\n",
    "for dataset_name_i in dataset_name[:1]:\n",
    "    dir_name = os.path.join(dir_path, dataset_name_i)\n",
    "    for _, _, file_names in os.walk(dir_name):\n",
    "        for filename in file_names:\n",
    "            if \"checkpoint\" in filename:\n",
    "                print(filename,dataset_name_i)\n",
    "                assert 1==2\n",
    "            if \"assay\" in filename:\n",
    "                if \"assays_both\" in filename:\n",
    "                    both_names_set.add( \"_\".join(filename.split(\"_\")[:6]))\n",
    "                if \"assays_horizontal\" in filename:\n",
    "                    horizontal_names_set.add(\"_\".join(filename.split(\"_\")[:5]))\n",
    "                if \"assays_vertical\" in filename:\n",
    "                    vertical_names_set.add(\"_\".join(filename.split(\"_\")[:5]))\n",
    "            if \"Musicians\" in filename:\n",
    "                music_names_set.add(\"_\".join(filename.split(\"_\")[:2]))"
   ]
  },
  {
   "cell_type": "code",
   "execution_count": 50,
   "metadata": {},
   "outputs": [
    {
     "name": "stdout",
     "output_type": "stream",
     "text": [
      "36 48 96\n"
     ]
    }
   ],
   "source": [
    "print(len(horizontal_names_set), len(vertical_names_set),len(both_names_set))\n",
    "assay_query_set = horizontal_names_set|vertical_names_set|both_names_set\n",
    "prospect_query_set = [j.replace(\"assays\", \"prospect\") for j in assay_query_set]\n",
    "miller2_query_set = [j.replace(\"assays\", \"miller2\") for j in assay_query_set]"
   ]
  },
  {
   "cell_type": "code",
   "execution_count": 51,
   "metadata": {},
   "outputs": [],
   "source": [
    "query_set = assay_query_set|set(prospect_query_set)|set(miller2_query_set)|set(music_names_set)"
   ]
  },
  {
   "cell_type": "code",
   "execution_count": 52,
   "metadata": {},
   "outputs": [],
   "source": [
    "import os\n",
    "\n",
    "def collect_path_dic(dir_path, dataset_name, query_set):\n",
    "    path_dic = {}\n",
    "    for query_name in query_set:\n",
    "        \n",
    "        for dataset_name_i in dataset_name:\n",
    "            path_dic[(query_name, dataset_name_i)] = []\n",
    "            dir_name = os.path.join(dir_path, dataset_name_i)\n",
    "            for _, _, file_names in os.walk(dir_name):\n",
    "                for filename in file_names:\n",
    "                    if query_name in filename:\n",
    "                        path_dic[(query_name, dataset_name_i)].append(os.path.join(dir_name, filename))\n",
    "    return path_dic"
   ]
  },
  {
   "cell_type": "code",
   "execution_count": 53,
   "metadata": {},
   "outputs": [],
   "source": [
    "import json\n",
    "def crs_collect(query_name_list, path_dic):\n",
    "    crs = {}\n",
    "    for key_name in query_name_list:\n",
    "        \n",
    "        crs[key_name] = []\n",
    "        for dataset_i in [\"Coma\", \"CorrelationClustering\", \"Cupid\",\"Cupid2\", \"EmbDI\",\"JaccardLevenMatcher\",\"SemProp\",\"SimilarityFlooding\"]:\n",
    "            for path_name in path_dic[(key_name, dataset_i)]:\n",
    "                \n",
    "                with open(path_name, \"r\") as f:\n",
    "                    content = json.load(f)\n",
    "                    pairs = list(content[\"matches\"].keys())\n",
    "                    match_list= [eval(i) for i in pairs]\n",
    "                    tmp_l = []\n",
    "                    key_l = []\n",
    "                    for k in match_list:\n",
    "                        if dataset_i == \"CorrelationClustering\":\n",
    "                            if key_name==\"miller2_horizontal_50_ac4_av\":\n",
    "                                threhold=0.995\n",
    "                            else:\n",
    "                                threhold = 0.99\n",
    "                        elif dataset_i == \"Cupid\" or dataset_i == \"Cupid2\":\n",
    "                            threhold = 0.90\n",
    "                        elif dataset_i ==\"EmbDI\":\n",
    "                            if key_name==\"miller2_horizontal_50_ac4_av\":\n",
    "                                threhold=0.95\n",
    "                            else:\n",
    "                                threhold = 0.50\n",
    "                        elif dataset_i == \"JaccardLevenMatcher\":\n",
    "                            threhold = 0.85 \n",
    "                        elif dataset_i == \"SimilarityFlooding\":\n",
    "                                threhold = 0.12\n",
    "                        else:\n",
    "                            if key_name==\"miller2_horizontal_50_ac4_av\":\n",
    "                                threhold = 0.95\n",
    "                            else:\n",
    "                                threhold =0.8\n",
    "                        if content[\"matches\"][str(k)]<threhold:\n",
    "                            continue\n",
    "                        if \"source\" in k[0][0]:\n",
    "                            if k[0][1] not in key_l:\n",
    "                                tmp_l.append((k[0][1],k[1][1]))\n",
    "                                key_l.append(k[0][1])\n",
    "                        else:\n",
    "                            if k[1][1] not in key_l:\n",
    "                                tmp_l.append((k[1][1],k[0][1]))\n",
    "                                key_l.append(k[1][1])\n",
    "                    tmp_l = sorted(tmp_l, key=lambda r:r[0])\n",
    "                    if tmp_l and (tmp_l not in crs[key_name]):\n",
    "                        crs[key_name].append(tmp_l)\n",
    "    return crs"
   ]
  },
  {
   "cell_type": "code",
   "execution_count": 54,
   "metadata": {},
   "outputs": [],
   "source": [
    "dir_path = r\"./data\"\n",
    "dataset_name =[\"Coma\", \"CorrelationClustering\", \"Cupid\",\"Cupid2\", \"EmbDI\",\"JaccardLevenMatcher\",\"SemProp\",\"SimilarityFlooding\"]\n",
    "\n",
    "path_dic = collect_path_dic(dir_path, dataset_name, query_set)\n",
    "query_name_list= [\"Musicians_joinable\", \"Musicians_viewunion\", \"Musicians_semjoinable\", \"Musicians_unionable\"]\n",
    "crs = crs_collect(query_name_list, path_dic)"
   ]
  },
  {
   "cell_type": "code",
   "execution_count": 55,
   "metadata": {},
   "outputs": [],
   "source": [
    "import json\n",
    "for i in crs.keys():\n",
    "    with open(r\"./CRS/{}\".format(i), \"w\") as f:\n",
    "        json.dump(crs[i],f,indent=2, ensure_ascii=False)"
   ]
  },
  {
   "cell_type": "code",
   "execution_count": 56,
   "metadata": {},
   "outputs": [],
   "source": [
    "dir_path = r\"./data\"\n",
    "dataset_name =[\"Coma\", \"CorrelationClustering\", \"Cupid\",\"Cupid2\", \"EmbDI\",\"JaccardLevenMatcher\",\"SemProp\",\"SimilarityFlooding\"]\n",
    "\n",
    "path_dic = collect_path_dic(dir_path, dataset_name, query_set)\n",
    "query_name_list= [\"assays_both_50_30_ac1_av\", \"assays_horizontal_50_ac4_av\", \"assays_vertical_70_ac1_av\", \"assays_both_50_30_ac5_ev\"]\n",
    "crs = crs_collect(query_name_list, path_dic)"
   ]
  },
  {
   "cell_type": "code",
   "execution_count": 57,
   "metadata": {},
   "outputs": [],
   "source": [
    "import json\n",
    "for i in crs.keys():\n",
    "    with open(r\"./CRS_assays/{}\".format(i), \"w\") as f:\n",
    "        json.dump(crs[i],f,indent=2, ensure_ascii=False)"
   ]
  },
  {
   "cell_type": "code",
   "execution_count": 58,
   "metadata": {},
   "outputs": [],
   "source": [
    "dir_path = r\"./data\"\n",
    "dataset_name =[\"Coma\", \"CorrelationClustering\", \"Cupid\",\"Cupid2\", \"EmbDI\",\"JaccardLevenMatcher\",\"SemProp\",\"SimilarityFlooding\"]\n",
    "\n",
    "path_dic = collect_path_dic(dir_path, dataset_name, query_set)\n",
    "query_name_list= [\"assays_both_50_30_ac1_av\", \"assays_horizontal_50_ac4_av\", \"assays_vertical_1_ac2_ev\", \"assays_both_50_30_ac5_ev\"]\n",
    "crs = crs_collect(query_name_list, path_dic)"
   ]
  },
  {
   "cell_type": "code",
   "execution_count": 59,
   "metadata": {},
   "outputs": [],
   "source": [
    "import json\n",
    "for i in crs.keys():\n",
    "    with open(r\"./CRS_assays/{}\".format(i), \"w\") as f:\n",
    "        json.dump(crs[i],f,indent=2, ensure_ascii=False)"
   ]
  },
  {
   "cell_type": "code",
   "execution_count": 60,
   "metadata": {},
   "outputs": [],
   "source": [
    "dir_path = r\"./data\"\n",
    "dataset_name =[\"Coma\", \"CorrelationClustering\", \"Cupid\",\"Cupid2\", \"EmbDI\",\"JaccardLevenMatcher\",\"SemProp\",\"SimilarityFlooding\"]\n",
    "\n",
    "path_dic = collect_path_dic(dir_path, dataset_name, query_set)\n",
    "query_name_list= [\"miller2_both_50_30_ac1_av\", \"miller2_horizontal_50_ac4_av\", \"miller2_vertical_1_ac2_ev\", \"miller2_both_50_30_ac5_ev\"]\n",
    "crs = crs_collect(query_name_list, path_dic)"
   ]
  },
  {
   "cell_type": "code",
   "execution_count": 61,
   "metadata": {},
   "outputs": [
    {
     "data": {
      "text/plain": [
       "[\"./data/Coma/miller2_horizontal_0_ac4_av__Coma{'max_n': 0, 'strategy': 'COMA_OPT'}.json\",\n",
       " \"./data/Coma/miller2_horizontal_0_ac4_av__Coma{'max_n': 0, 'strategy': 'COMA_OPT_INST'}.json\"]"
      ]
     },
     "execution_count": 61,
     "metadata": {},
     "output_type": "execute_result"
    }
   ],
   "source": [
    "path_dic[(\"miller2_horizontal_0_ac4_av\",\"Coma\")]"
   ]
  },
  {
   "cell_type": "code",
   "execution_count": 62,
   "metadata": {},
   "outputs": [],
   "source": [
    "import json\n",
    "for i in crs.keys():\n",
    "    with open(r\"./CRS_miller2/{}\".format(i), \"w\") as f:\n",
    "        json.dump(crs[i],f,indent=2, ensure_ascii=False)"
   ]
  },
  {
   "cell_type": "code",
   "execution_count": 63,
   "metadata": {},
   "outputs": [],
   "source": [
    "dir_path = r\"./data\"\n",
    "dataset_name =[\"Coma\", \"CorrelationClustering\", \"Cupid\",\"Cupid2\", \"EmbDI\",\"JaccardLevenMatcher\",\"SemProp\",\"SimilarityFlooding\"]\n",
    "\n",
    "path_dic = collect_path_dic(dir_path, dataset_name, query_set)\n",
    "query_name_list= [\"prospect_both_50_70_ac1_av\", \"prospect_horizontal_50_ac4_av\", \"prospect_vertical_70_ac2_ev\", \"prospect_both_50_70_ac5_ev\"]\n",
    "crs = crs_collect(query_name_list, path_dic)"
   ]
  },
  {
   "cell_type": "code",
   "execution_count": 64,
   "metadata": {},
   "outputs": [],
   "source": [
    "import json\n",
    "for i in crs.keys():\n",
    "    with open(r\"./CRS_prospect/{}\".format(i), \"w\") as f:\n",
    "        json.dump(crs[i],f,indent=2, ensure_ascii=False)"
   ]
  }
 ],
 "metadata": {
  "kernelspec": {
   "display_name": "Python 3 (ipykernel)",
   "language": "python",
   "name": "python3"
  },
  "language_info": {
   "codemirror_mode": {
    "name": "ipython",
    "version": 3
   },
   "file_extension": ".py",
   "mimetype": "text/x-python",
   "name": "python",
   "nbconvert_exporter": "python",
   "pygments_lexer": "ipython3",
   "version": "3.8.10"
  }
 },
 "nbformat": 4,
 "nbformat_minor": 4
}
